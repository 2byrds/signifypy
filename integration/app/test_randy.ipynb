{
 "cells": [
  {
   "cell_type": "markdown",
   "id": "5ccc5e88-2a8e-4934-a6f5-60500c936ec1",
   "metadata": {
    "tags": []
   },
   "source": [
    "# SignifyPy Randy Keys\n",
    "This notebook should help a developer validate their env setup (Witnesses, KERIA, and SignifyPy client) and walk them step-by-step through the randy key creation. If you haven't setup and run KERI/Witnesses before [Kent Bull's KERI/ACDC guide](https://kentbull.com/2023/03/09/keri-tutorial-series-treasure-hunting-in-abydos-issuing-and-verifying-a-credential-acdc/) is a great starting point"
   ]
  },
  {
   "cell_type": "markdown",
   "id": "4f1c272f",
   "metadata": {},
   "source": [
    "## Env Setup\n",
    "\n",
    "### Witness Network\n",
    "Run a **clean** local witness network\n",
    "* Clear out any of the local files from previous runs. Note keri wants to write to /user/local/var/keri, or ~/.keri\n",
    "* And launch the local witness network\n",
    "* You will know your witness network isn't clean if you see a KERIA error like:\n",
    "``` ValueError: Already incepted pre=DCQE55HKUokSAKc4ntJw2b845r4DnddpPZs8iF_T-0c-. ERR: mdb_txn_renew: MDB_BAD_RSLOT: Invalid reuse of reader locktable slot```\n",
    "\n",
    "Start your clean demo witness network with a command like:\n",
    "```rm -rf /usr/local/var/keri/*;rm -Rf ~/.keri/*;nohup kli witness demo```"
   ]
  },
  {
   "cell_type": "markdown",
   "id": "21330ac6",
   "metadata": {},
   "source": [
    "## KERIA\n",
    "\n",
    "Next, start the KERI Agent (KERIA)\n",
    "\n",
    "```keria start --config-file demo-witness-oobis.json --config-dir ./scripts``` "
   ]
  },
  {
   "cell_type": "markdown",
   "id": "a6ce8ef6",
   "metadata": {},
   "source": [
    "\n",
    "## Signify\n",
    "* If signifypy isn't on PiPy yet, then make sure your Jupyter Python version points to the same Python version where you install signifypy.\n",
    "* One way to install signifypy is from git like: ```%python -m pip install \"signifypy @ git+https://github.com/WebOfTrust/signifypy.git\"```"
   ]
  },
  {
   "cell_type": "markdown",
   "id": "b52ede76",
   "metadata": {},
   "source": [
    "## Install python dependencies from PiPy"
   ]
  },
  {
   "cell_type": "code",
   "execution_count": 1,
   "id": "398aac8e",
   "metadata": {},
   "outputs": [
    {
     "name": "stdout",
     "output_type": "stream",
     "text": [
      "/Users/meenyleeny/.pyenv/versions/3.11.3/bin/python\n"
     ]
    },
    {
     "name": "stderr",
     "output_type": "stream",
     "text": [
      "UsageError: Line magic function `%python` not found (But cell magic `%%python` exists, did you mean that instead?).\n"
     ]
    }
   ],
   "source": [
    "!which python\n",
    "%python -m pip install keri\n",
    "%python -m pip install responses\n",
    "%python -m pip install pytest"
   ]
  },
  {
   "cell_type": "code",
   "execution_count": 2,
   "id": "c62e0ed2-19b2-4c82-923d-cf89a8e78c96",
   "metadata": {
    "tags": []
   },
   "outputs": [],
   "source": [
    "from time import sleep\n",
    "\n",
    "import requests\n",
    "from keri.app.keeping import Algos\n",
    "from keri.core import coring\n",
    "from responses import _recorder\n",
    "\n",
    "import pytest\n",
    "from keri import kering\n",
    "from keri.core.coring import Tiers, Serder, MtrDex\n",
    "\n",
    "from signify.app.clienting import SignifyClient"
   ]
  },
  {
   "cell_type": "markdown",
   "id": "d71ec345",
   "metadata": {},
   "source": [
    "## Basic Signify client creation\n",
    "* Create client using the admin url\n",
    "* Hard-code the randomness for testing purposes\n",
    "* Don't set the tier, to create the least expensive/secure public key"
   ]
  },
  {
   "cell_type": "code",
   "execution_count": 3,
   "id": "921aa899",
   "metadata": {},
   "outputs": [
    {
     "name": "stdout",
     "output_type": "stream",
     "text": [
      "Inception event is:  b'{\"v\":\"KERI10JSON00012b_\",\"t\":\"icp\",\"d\":\"ELI7pg979AdhmvrjDeam2eAO2SR5niCgnjAJXJHtJose\",\"i\":\"ELI7pg979AdhmvrjDeam2eAO2SR5niCgnjAJXJHtJose\",\"s\":\"0\",\"kt\":\"1\",\"k\":[\"DAbWjobbaLqRB94KiAutAHb_qzPpOHm3LURA_ksxetVc\"],\"nt\":\"1\",\"n\":[\"EIFG_uqfr1yN560LoHYHfvPAhxQ5sN6xZZT_E3h7d2tL\"],\"bt\":\"0\",\"b\":[],\"c\":[],\"a\":[]}'\n"
     ]
    }
   ],
   "source": [
    "admin_url = \"http://localhost:3901\"\n",
    "bran = b'0123456789abcdefghijk'\n",
    "tier = None\n",
    "\n",
    "# Try with bran that is too short\n",
    "with pytest.raises(kering.ConfigurationError):\n",
    "    SignifyClient(url=admin_url, bran=bran[:16], tier=tier)\n",
    "\n",
    "# Try with an invalid URL\n",
    "with pytest.raises(kering.ConfigurationError):\n",
    "    SignifyClient(url=\"ftp://www.example.com\", bran=bran, tier=tier)\n",
    "\n",
    "client = SignifyClient(url=admin_url, bran=bran, tier=tier)\n",
    "# Your client public key\n",
    "assert client.controller == \"ELI7pg979AdhmvrjDeam2eAO2SR5niCgnjAJXJHtJose\"\n",
    "# Get the inception event\n",
    "serder = client.icp\n",
    "# Review the inception event\n",
    "assert serder.raw == (b'{\"v\":\"KERI10JSON00012b_\",\"t\":\"icp\",\"d\":\"ELI7pg979AdhmvrjDeam2eAO2SR5niCgnjAJ'\n",
    "                        b'XJHtJose\",\"i\":\"ELI7pg979AdhmvrjDeam2eAO2SR5niCgnjAJXJHtJose\",\"s\":\"0\",\"kt\":\"1'\n",
    "                        b'\",\"k\":[\"DAbWjobbaLqRB94KiAutAHb_qzPpOHm3LURA_ksxetVc\"],\"nt\":\"1\",\"n\":[\"EIFG_u'\n",
    "                        b'qfr1yN560LoHYHfvPAhxQ5sN6xZZT_E3h7d2tL\"],\"bt\":\"0\",\"b\":[],\"c\":[],\"a\":[]}')\n",
    "print(\"Inception event is: \", serder.raw)"
   ]
  },
  {
   "cell_type": "markdown",
   "id": "3ae85294",
   "metadata": {},
   "source": [
    "* For more information about keri fields, see [that section of the KERI whitepaper](https://weboftrust.github.io/ietf-keri/draft-ssmith-keri.html#section-5.1)"
   ]
  },
  {
   "cell_type": "markdown",
   "id": "c4e5908c",
   "metadata": {},
   "source": [
    "## You can create tiers of clients\n",
    "The higher tiers take longer to generate as the number of hash iterations increases"
   ]
  },
  {
   "cell_type": "code",
   "execution_count": 4,
   "id": "a6cf222d",
   "metadata": {},
   "outputs": [
    {
     "name": "stdout",
     "output_type": "stream",
     "text": [
      "Low tier controller is:  ELI7pg979AdhmvrjDeam2eAO2SR5niCgnjAJXJHtJose\n"
     ]
    }
   ],
   "source": [
    "tier = Tiers.low\n",
    "client = SignifyClient(url=admin_url, bran=bran, tier=tier)\n",
    "print(\"Low tier controller is: \", client.controller)\n",
    "assert client.controller == \"ELI7pg979AdhmvrjDeam2eAO2SR5niCgnjAJXJHtJose\"\n",
    "\n",
    "#tier = Tiers.med\n",
    "#client = SignifyClient(url=admin_url, bran=bran, tier=tier)\n",
    "#print(\"Medium tier controller is: \", client.controller)\n",
    "#assert client.controller == \"EOgQvKz8ziRn7FdR_ebwK9BkaVOnGeXQOJ87N6hMLrK0\"\n",
    "\n",
    "#tier = Tiers.high\n",
    "#client = SignifyClient(url=admin_url, bran=bran, tier=tier)\n",
    "#print(\"High tier controller is: \", client.controller)\n",
    "#assert client.controller == \"EB8wN2c_tv1WlsJ5c3949-TFWPMB2IflFbdMlZfC_Hgo\""
   ]
  },
  {
   "cell_type": "markdown",
   "id": "f3b94d4b",
   "metadata": {},
   "source": [
    "## Post inception event to KERIA (OOB) boot interface"
   ]
  },
  {
   "cell_type": "code",
   "execution_count": 5,
   "id": "701d9d38",
   "metadata": {},
   "outputs": [],
   "source": [
    "evt, siger = client.ctrl.event()\n",
    "res = requests.post(url=\"http://localhost:3903/boot\",\n",
    "                    json=dict(\n",
    "                        icp=evt.ked,\n",
    "                        sig=siger.qb64,\n",
    "                        stem=client.ctrl.stem,\n",
    "                        pidx=1,\n",
    "                        tier=client.ctrl.tier))\n",
    "if res.status_code != requests.codes.accepted:\n",
    "    raise kering.AuthNError(f\"unable to initialize cloud agent connection, {res.status_code}, {res.text}\")"
   ]
  },
  {
   "cell_type": "markdown",
   "id": "fb09cf01",
   "metadata": {},
   "source": [
    "## Create a KERIA agent session"
   ]
  },
  {
   "cell_type": "code",
   "execution_count": 6,
   "id": "8d8b33e5",
   "metadata": {},
   "outputs": [],
   "source": [
    "client.connect()\n",
    "assert client.agent is not None\n",
    "assert client.agent.anchor == \"ELI7pg979AdhmvrjDeam2eAO2SR5niCgnjAJXJHtJose\"\n",
    "assert client.agent.pre == \"EJoqUMpQAfqsJhBqv02ehR-9BJYBTCrW8h5JlLdMTWBg\"\n",
    "assert client.ctrl.ridx == 0"
   ]
  },
  {
   "cell_type": "markdown",
   "id": "32ba696d",
   "metadata": {},
   "source": [
    "## Create a KERI Autonomic Identifier (AID)"
   ]
  },
  {
   "cell_type": "code",
   "execution_count": 7,
   "id": "b1d37b67",
   "metadata": {},
   "outputs": [],
   "source": [
    "identifiers = client.identifiers()\n",
    "aids = identifiers.list()\n",
    "assert aids == []\n",
    "\n",
    "aid = identifiers.create(\"aid1\")\n",
    "icp = Serder(ked=aid)\n",
    "assert icp.pre == \"ELUvZ8aJEHAQE-0nsevyYTP98rBbGJUrTj5an-pCmwrK\"\n",
    "assert len(icp.verfers) == 1\n",
    "assert icp.verfers[0].qb64 == \"DPmhSfdhCPxr3EqjxzEtF8TVy0YX7ATo0Uc8oo2cnmY9\"\n",
    "assert len(icp.digers) == 1\n",
    "assert icp.digers[0].qb64 == \"EAORnRtObOgNiOlMolji-KijC_isa3lRDpHCsol79cOc\"\n",
    "assert icp.tholder.num == 1\n",
    "assert icp.ntholder.num == 1\n",
    "\n",
    "rpy = identifiers.makeEndRole(pre=icp.pre, eid=\"EPGaq6inGxOx-VVVEcUb_KstzJZldHJvVsHqD4IPxTWf\")\n",
    "\n",
    "aids = identifiers.list()\n",
    "assert len(aids) == 1\n",
    "aid = aids.pop()\n",
    "\n",
    "salt = aid[Algos.salty]\n",
    "assert aid['name'] == \"aid1\"\n",
    "assert salt[\"pidx\"] == 0\n",
    "assert aid[\"prefix\"] == icp.pre\n",
    "assert salt[\"stem\"] == \"signify:aid\""
   ]
  },
  {
   "cell_type": "markdown",
   "id": "def47556",
   "metadata": {},
   "source": [
    "## Create a second AID with more configuration"
   ]
  },
  {
   "cell_type": "code",
   "execution_count": 8,
   "id": "26fb711d",
   "metadata": {},
   "outputs": [],
   "source": [
    "aid2 = identifiers.create(\"aid2\", count=3, ncount=3, isith=\"2\", nsith=\"2\")\n",
    "icp2 = Serder(ked=aid2)\n",
    "assert icp2.pre == \"EI5e4q43vsTsy-vJFcVGKfI3YKHbOT5ffuseaxtuYydL\"\n",
    "assert len(icp2.verfers) == 3\n",
    "assert icp2.verfers[0].qb64 == \"DPmhSfdhCPxr3EqjxzEtF8TVy0YX7ATo0Uc8oo2cnmY9\"\n",
    "assert icp2.verfers[1].qb64 == \"DHgomzINlGJHr-XP3sv2ZcR9QsIEYS3LJhs4KRaZYKly\"\n",
    "assert icp2.verfers[2].qb64 == \"DEfdjYZMI2hLaHBOpUubn5AUItgOvh2W1vckGE33SIPf\"\n",
    "assert len(icp2.digers) == 3\n",
    "assert icp2.digers[0].qb64 == \"EEvyqpRLktts-_aSfPHKKv1mTKTV4ngwKKkOaqm3ZuPX\"\n",
    "assert icp2.digers[1].qb64 == \"EEkMimwsv_JMZh7k-Rfq5wvhvbEdjVr8NhGQpyssVmNJ\"\n",
    "assert icp2.digers[2].qb64 == \"EJy_MjjMWLJkn_5cRaUtDr7asfLe70xbAPD2nablr0iv\"\n",
    "assert icp2.tholder.num == 2\n",
    "assert icp2.ntholder.num == 2\n",
    "\n",
    "aids = identifiers.list()\n",
    "assert len(aids) == 2\n",
    "aid = aids[1]\n",
    "assert aid['name'] == \"aid2\"\n",
    "assert aid[\"prefix\"] == icp2.pre\n",
    "salt = aid[Algos.salty]\n",
    "assert salt[\"pidx\"] == 1\n",
    "assert salt[\"stem\"] == \"signify:aid\"\n",
    "\n",
    "ked = identifiers.rotate(\"aid1\")\n",
    "rot = Serder(ked=ked)\n",
    "\n",
    "assert rot.said == \"EBQABdRgaxJONrSLcgrdtbASflkvLxJkiDO0H-XmuhGg\"\n",
    "assert rot.sn == 1\n",
    "assert len(rot.digers) == 1\n",
    "assert rot.verfers[0].qb64 == \"DHgomzINlGJHr-XP3sv2ZcR9QsIEYS3LJhs4KRaZYKly\"\n",
    "assert rot.digers[0].qb64 == \"EJMovBlrBuD6BVeUsGSxLjczbLEbZU9YnTSud9K4nVzk\""
   ]
  },
  {
   "cell_type": "markdown",
   "id": "dfb84040",
   "metadata": {},
   "source": [
    "## Create an interaction event"
   ]
  },
  {
   "cell_type": "code",
   "execution_count": 9,
   "id": "f912e95d",
   "metadata": {},
   "outputs": [],
   "source": [
    "ked = identifiers.interact(\"aid1\", data=[icp.pre])\n",
    "ixn = Serder(ked=ked)\n",
    "assert ixn.said == \"ENsmRAg_oM7Hl1S-GTRMA7s4y760lQMjzl0aqOQ2iTce\"\n",
    "assert ixn.sn == 2\n",
    "assert ixn.ked[\"a\"] == [icp.pre]\n",
    "\n",
    "aid = identifiers.get(\"aid1\")\n",
    "state = aid[\"state\"]\n",
    "assert state['s'] == '2'\n",
    "assert state['f'] == '2'\n",
    "assert state['et'] == 'ixn'\n",
    "assert state['d'] == ixn.said\n",
    "assert state['ee']['d'] == rot.said"
   ]
  },
  {
   "cell_type": "markdown",
   "id": "5d69537e",
   "metadata": {},
   "source": [
    "## Review the key events and list the identifiers"
   ]
  },
  {
   "cell_type": "code",
   "execution_count": 10,
   "id": "2f817695",
   "metadata": {},
   "outputs": [
    {
     "name": "stdout",
     "output_type": "stream",
     "text": [
      "[{'name': 'aid1', 'prefix': 'ELUvZ8aJEHAQE-0nsevyYTP98rBbGJUrTj5an-pCmwrK', 'salty': {'pidx': 0, 'kidx': 1, 'stem': 'signify:aid', 'tier': 'low', 'dcode': 'E', 'icodes': ['A'], 'ncodes': ['A'], 'transferable': True}}, {'name': 'aid2', 'prefix': 'EI5e4q43vsTsy-vJFcVGKfI3YKHbOT5ffuseaxtuYydL', 'salty': {'pidx': 1, 'kidx': 0, 'stem': 'signify:aid', 'tier': 'low', 'dcode': 'E', 'icodes': ['A', 'A', 'A'], 'ncodes': ['A', 'A', 'A'], 'transferable': True}}]\n"
     ]
    }
   ],
   "source": [
    "events = client.keyEvents()\n",
    "log = events.get(pre=aid[\"prefix\"])\n",
    "assert len(log) == 3\n",
    "serder = coring.Serder(ked=log[0])\n",
    "assert serder.pre == icp.pre\n",
    "assert serder.said == icp.said\n",
    "serder = coring.Serder(ked=log[1])\n",
    "assert serder.pre == rot.pre\n",
    "assert serder.said == rot.said\n",
    "serder = coring.Serder(ked=log[2])\n",
    "assert serder.pre == ixn.pre\n",
    "assert serder.said == ixn.said\n",
    "\n",
    "print(identifiers.list())"
   ]
  }
 ],
 "metadata": {
  "kernelspec": {
   "display_name": "Python 3.11.3 64-bit ('3.11.3')",
   "language": "python",
   "name": "python3"
  },
  "language_info": {
   "codemirror_mode": {
    "name": "ipython",
    "version": 3
   },
   "file_extension": ".py",
   "mimetype": "text/x-python",
   "name": "python",
   "nbconvert_exporter": "python",
   "pygments_lexer": "ipython3",
   "version": "3.11.3"
  },
  "vscode": {
   "interpreter": {
    "hash": "ebe7f73a47762276d07c618e3a56dc3bc1e0329af7b3d7764336a2d1f3e9db09"
   }
  }
 },
 "nbformat": 4,
 "nbformat_minor": 5
}
